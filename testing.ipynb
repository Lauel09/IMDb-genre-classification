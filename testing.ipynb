{
  "cells": [
    {
      "cell_type": "markdown",
      "metadata": {
        "id": "view-in-github",
        "colab_type": "text"
      },
      "source": [
        "<a href=\"https://colab.research.google.com/github/Lauel09/IMDb-genre-classification/blob/main/testing.ipynb\" target=\"_parent\"><img src=\"https://colab.research.google.com/assets/colab-badge.svg\" alt=\"Open In Colab\"/></a>"
      ]
    },
    {
      "cell_type": "code",
      "execution_count": 4,
      "metadata": {
        "id": "IAsRnIcweEPf"
      },
      "outputs": [],
      "source": [
        "import pandas as pd\n",
        "# import nltk stopwords and WordNetLemmatizer\n",
        "from nltk.corpus import stopwords\n",
        "from nltk.stem import WordNetLemmatizer\n",
        "import nltk\n",
        "import unicodedata\n",
        "from sklearn.feature_extraction.text import TfidfVectorizer\n",
        "from sklearn.multiclass import OneVsRestClassifier\n",
        "# import train test split\n",
        "from sklearn.model_selection import train_test_split\n"
      ]
    },
    {
      "cell_type": "code",
      "source": [
        "!cp kaggle.json ~/.kaggle/\n",
        "!chmod 600 ~/.kaggle/kaggle.json\n",
        "import kaggle"
      ],
      "metadata": {
        "id": "xHtR8hj8I6Wk"
      },
      "execution_count": 5,
      "outputs": []
    },
    {
      "cell_type": "code",
      "execution_count": 6,
      "metadata": {
        "colab": {
          "base_uri": "https://localhost:8080/"
        },
        "id": "BXx20yhCe8SU",
        "outputId": "b8819cbd-65a1-4c31-a7ea-cdbca17760b9"
      },
      "outputs": [
        {
          "output_type": "stream",
          "name": "stdout",
          "text": [
            "Dataset URL: https://www.kaggle.com/datasets/simhyunsu/imdbextensivedataset\n",
            "License(s): unknown\n",
            "Downloading imdbextensivedataset.zip to /content\n",
            " 93% 25.0M/26.9M [00:01<00:00, 20.4MB/s]\n",
            "100% 26.9M/26.9M [00:01<00:00, 14.3MB/s]\n"
          ]
        }
      ],
      "source": [
        "# Download the dataset\n",
        "!kaggle datasets download -d simhyunsu/imdbextensivedataset"
      ]
    },
    {
      "cell_type": "code",
      "execution_count": 7,
      "metadata": {
        "id": "vsu6XshKf6N_",
        "colab": {
          "base_uri": "https://localhost:8080/"
        },
        "outputId": "efa94c24-b560-46a0-d7e1-e0ddbe47f2f4"
      },
      "outputs": [
        {
          "output_type": "stream",
          "name": "stdout",
          "text": [
            ".config\n",
            "kaggle.json\n",
            "imdbextensivedataset.zip\n",
            "sample_data\n"
          ]
        }
      ],
      "source": [
        "import os\n",
        "for name in os.listdir('/content'):\n",
        "  print(name)\n",
        "\n",
        "import zipfile\n",
        "\n",
        "with zipfile.ZipFile('/content/imdbextensivedataset.zip','r') as zip_ref:\n",
        "  zip_ref.extractall('.')"
      ]
    },
    {
      "cell_type": "code",
      "source": [
        "from tensorflow.python.client import device_lib\n",
        "\n",
        "def get_available_gpus():\n",
        "    local_device_protos = device_lib.list_local_devices()\n",
        "    return [x.name for x in local_device_protos if x.device_type == 'GPU']\n",
        "\n",
        "print(get_available_gpus())"
      ],
      "metadata": {
        "colab": {
          "base_uri": "https://localhost:8080/"
        },
        "id": "dPMoeND8oEfU",
        "outputId": "dd9b4e54-561b-48d2-e146-cafd4f43a2f6"
      },
      "execution_count": 8,
      "outputs": [
        {
          "output_type": "stream",
          "name": "stdout",
          "text": [
            "[]\n"
          ]
        }
      ]
    },
    {
      "cell_type": "code",
      "execution_count": 9,
      "metadata": {
        "id": "ACy_Sa9_eEPj"
      },
      "outputs": [],
      "source": [
        "\n",
        "data = pd.read_csv(\"IMDb movies.csv\",low_memory=False)\n",
        "data = data.rename(columns={'genre':'genres','imdb_title_id':'imdb_id','date_published':'date','description':'plot'})\n",
        "# drop every column except 'genre', 'imdb_title_id', 'title', 'year', 'date', 'duration', 'language', 'plot'\n",
        "data = data[['genres', 'imdb_id', 'title', 'year', 'date', 'duration', 'language', 'plot']]\n"
      ]
    },
    {
      "cell_type": "code",
      "source": [
        "nltk.download(\"punkt\")\n",
        "nltk.download(\"stopwords\")\n",
        "nltk.download(\"wordnet\")\n",
        "stop_words = set(stopwords.words('english'))\n",
        "lemmatizer = WordNetLemmatizer()\n",
        "\n",
        "def normalize_text(text):\n",
        "    \"\"\"\n",
        "        Usual Unicode normalization.\n",
        "    \"\"\"\n",
        "    try :\n",
        "        return unicodedata.normalize('NFD', text).encode('ascii','ignore').decode('utf-8')\n",
        "    except Exception as e:\n",
        "        print(e)\n",
        "        print(f\"Caused error:{text}\")\n",
        "        return\n",
        "\n",
        "\n",
        "# Preprocess text by tokenizing and lemmatizing it\n",
        "def preprocess_text(text):\n",
        "    # Tokenize, remove stopwords, and lemmatize\n",
        "    tokens = nltk.word_tokenize(text.lower())\n",
        "    filtered_tokens = [lemmatizer.lemmatize(token) for token in tokens if token not in stop_words and token.isalnum()]\n",
        "    return ' '.join(filtered_tokens)\n",
        ""
      ],
      "metadata": {
        "colab": {
          "base_uri": "https://localhost:8080/"
        },
        "id": "bV-N01mM8ECz",
        "outputId": "ea133682-2b24-479c-f628-44633a28d3e3"
      },
      "execution_count": 10,
      "outputs": [
        {
          "output_type": "stream",
          "name": "stderr",
          "text": [
            "[nltk_data] Downloading package punkt to /root/nltk_data...\n",
            "[nltk_data]   Unzipping tokenizers/punkt.zip.\n",
            "[nltk_data] Downloading package stopwords to /root/nltk_data...\n",
            "[nltk_data]   Unzipping corpora/stopwords.zip.\n",
            "[nltk_data] Downloading package wordnet to /root/nltk_data...\n"
          ]
        }
      ]
    },
    {
      "cell_type": "code",
      "source": [
        "# Drop every row with plot as NaN\n",
        "data.drop(data[data['plot'].isna()].index, inplace=True)\n",
        "\n",
        "# drop every rown with NaN value in it\n",
        "data.dropna(inplace=True,axis=0)\n",
        "\n",
        "# split the genres into a list, if it's already a list then leave it\n",
        "data['genres'] = data['genres'].apply(lambda x: x.split(',') if type(x) is not list else x)\n",
        "\n",
        "# preprocess the plot using WordNet()\n",
        "data['plot'] = data['plot'].apply(lambda y: preprocess_text(y))"
      ],
      "metadata": {
        "id": "j840o87WcMg2"
      },
      "execution_count": 11,
      "outputs": []
    },
    {
      "cell_type": "code",
      "source": [
        "data = data # Now we will try all dataset\n",
        "data.shape[0]\n",
        "godfather_text = \"The aging patriarch of an organized crime dynasty transfers control of his clandestine empire to his reluctant son.\"\n",
        "\n",
        "tfidf_vectorizer = TfidfVectorizer(max_df=0.5,ngram_range=(1,2))\n",
        "def transform_tfidf(text):\n",
        "    transformed_text = tfidf_vectorizer.fit_transform(text)\n",
        "    return transformed_text\n",
        "\n",
        "\n",
        "from sklearn.preprocessing import MultiLabelBinarizer\n",
        "# Convert y_train to binary array\n",
        "mlb = MultiLabelBinarizer()\n",
        "transformed_genres = mlb.fit_transform(data['genres'])\n",
        "\n",
        "X_train,X_test,y_train,y_test = train_test_split(data['plot'],transformed_genres,test_size=0.2,random_state=21)\n",
        "\n",
        "# transform the text using tfidf\n",
        "X_train_tfidf = tfidf_vectorizer.fit_transform(X_train)\n",
        "X_test_tfidf = tfidf_vectorizer.transform(X_test)"
      ],
      "metadata": {
        "id": "PdR39PtRicLG"
      },
      "execution_count": 12,
      "outputs": []
    },
    {
      "cell_type": "code",
      "source": [],
      "metadata": {
        "id": "HO7ZxUTRtSjC"
      },
      "execution_count": 12,
      "outputs": []
    },
    {
      "cell_type": "code",
      "source": [
        "data"
      ],
      "metadata": {
        "colab": {
          "base_uri": "https://localhost:8080/",
          "height": 1000
        },
        "id": "YO8nRm5WtSee",
        "outputId": "9ea4c4c8-2bb9-459c-a2ff-71b3295db716"
      },
      "execution_count": 13,
      "outputs": [
        {
          "output_type": "execute_result",
          "data": {
            "text/plain": [
              "                              genres    imdb_id  \\\n",
              "3                  [Drama,  History]  tt0002101   \n",
              "4      [Adventure,  Drama,  Fantasy]  tt0002130   \n",
              "5                [Biography,  Drama]  tt0002199   \n",
              "6      [Biography,  Drama,  Romance]  tt0002423   \n",
              "7                  [Drama,  History]  tt0002445   \n",
              "...                              ...        ...   \n",
              "85848                        [Drama]  tt9905462   \n",
              "85849               [Comedy,  Drama]  tt9906644   \n",
              "85850                       [Comedy]  tt9908390   \n",
              "85851               [Comedy,  Drama]  tt9911196   \n",
              "85854                        [Drama]  tt9914942   \n",
              "\n",
              "                                                   title  year        date  \\\n",
              "3                                              Cleopatra  1912  1912-11-13   \n",
              "4                                              L'Inferno  1911  1911-03-06   \n",
              "5      From the Manger to the Cross; or, Jesus of Naz...  1912        1913   \n",
              "6                                         Madame DuBarry  1919  1919-11-26   \n",
              "7                                             Quo Vadis?  1913  1913-03-01   \n",
              "...                                                  ...   ...         ...   \n",
              "85848                                          Pengalila  2019  2019-03-08   \n",
              "85849                                          Manoharam  2019  2019-09-27   \n",
              "85850                                            Le lion  2020  2020-01-29   \n",
              "85851                     De Beentjes van Sint-Hildegard  2020  2020-02-13   \n",
              "85854                         La vida sense la Sara Amat  2019  2020-02-05   \n",
              "\n",
              "       duration       language  \\\n",
              "3           100        English   \n",
              "4            68        Italian   \n",
              "5            60        English   \n",
              "6            85         German   \n",
              "7           120        Italian   \n",
              "...         ...            ...   \n",
              "85848       111      Malayalam   \n",
              "85849       122      Malayalam   \n",
              "85850        95         French   \n",
              "85851       103  German, Dutch   \n",
              "85854        74        Catalan   \n",
              "\n",
              "                                                    plot  \n",
              "3      fabled queen egypt affair roman general marc a...  \n",
              "4      loosely adapted dante divine comedy inspired i...  \n",
              "5      account life jesus christ based book new testa...  \n",
              "6      story madame dubarry mistress louis xv france ...  \n",
              "7      epic italian film quo vadis influenced many la...  \n",
              "...                                                  ...  \n",
              "85848  unusual bond sixty year old dalit worker azhag...  \n",
              "85849  manoharan poster artist struggling find respec...  \n",
              "85850  psychiatric hospital patient pretend crazy cha...  \n",
              "85851  veterinary surgeon belief wife pampers much or...  \n",
              "85854  pep boy love girl grandparent village sara ama...  \n",
              "\n",
              "[82858 rows x 8 columns]"
            ],
            "text/html": [
              "\n",
              "  <div id=\"df-017bcbdb-bb85-4680-aaf3-1a2af81ee682\" class=\"colab-df-container\">\n",
              "    <div>\n",
              "<style scoped>\n",
              "    .dataframe tbody tr th:only-of-type {\n",
              "        vertical-align: middle;\n",
              "    }\n",
              "\n",
              "    .dataframe tbody tr th {\n",
              "        vertical-align: top;\n",
              "    }\n",
              "\n",
              "    .dataframe thead th {\n",
              "        text-align: right;\n",
              "    }\n",
              "</style>\n",
              "<table border=\"1\" class=\"dataframe\">\n",
              "  <thead>\n",
              "    <tr style=\"text-align: right;\">\n",
              "      <th></th>\n",
              "      <th>genres</th>\n",
              "      <th>imdb_id</th>\n",
              "      <th>title</th>\n",
              "      <th>year</th>\n",
              "      <th>date</th>\n",
              "      <th>duration</th>\n",
              "      <th>language</th>\n",
              "      <th>plot</th>\n",
              "    </tr>\n",
              "  </thead>\n",
              "  <tbody>\n",
              "    <tr>\n",
              "      <th>3</th>\n",
              "      <td>[Drama,  History]</td>\n",
              "      <td>tt0002101</td>\n",
              "      <td>Cleopatra</td>\n",
              "      <td>1912</td>\n",
              "      <td>1912-11-13</td>\n",
              "      <td>100</td>\n",
              "      <td>English</td>\n",
              "      <td>fabled queen egypt affair roman general marc a...</td>\n",
              "    </tr>\n",
              "    <tr>\n",
              "      <th>4</th>\n",
              "      <td>[Adventure,  Drama,  Fantasy]</td>\n",
              "      <td>tt0002130</td>\n",
              "      <td>L'Inferno</td>\n",
              "      <td>1911</td>\n",
              "      <td>1911-03-06</td>\n",
              "      <td>68</td>\n",
              "      <td>Italian</td>\n",
              "      <td>loosely adapted dante divine comedy inspired i...</td>\n",
              "    </tr>\n",
              "    <tr>\n",
              "      <th>5</th>\n",
              "      <td>[Biography,  Drama]</td>\n",
              "      <td>tt0002199</td>\n",
              "      <td>From the Manger to the Cross; or, Jesus of Naz...</td>\n",
              "      <td>1912</td>\n",
              "      <td>1913</td>\n",
              "      <td>60</td>\n",
              "      <td>English</td>\n",
              "      <td>account life jesus christ based book new testa...</td>\n",
              "    </tr>\n",
              "    <tr>\n",
              "      <th>6</th>\n",
              "      <td>[Biography,  Drama,  Romance]</td>\n",
              "      <td>tt0002423</td>\n",
              "      <td>Madame DuBarry</td>\n",
              "      <td>1919</td>\n",
              "      <td>1919-11-26</td>\n",
              "      <td>85</td>\n",
              "      <td>German</td>\n",
              "      <td>story madame dubarry mistress louis xv france ...</td>\n",
              "    </tr>\n",
              "    <tr>\n",
              "      <th>7</th>\n",
              "      <td>[Drama,  History]</td>\n",
              "      <td>tt0002445</td>\n",
              "      <td>Quo Vadis?</td>\n",
              "      <td>1913</td>\n",
              "      <td>1913-03-01</td>\n",
              "      <td>120</td>\n",
              "      <td>Italian</td>\n",
              "      <td>epic italian film quo vadis influenced many la...</td>\n",
              "    </tr>\n",
              "    <tr>\n",
              "      <th>...</th>\n",
              "      <td>...</td>\n",
              "      <td>...</td>\n",
              "      <td>...</td>\n",
              "      <td>...</td>\n",
              "      <td>...</td>\n",
              "      <td>...</td>\n",
              "      <td>...</td>\n",
              "      <td>...</td>\n",
              "    </tr>\n",
              "    <tr>\n",
              "      <th>85848</th>\n",
              "      <td>[Drama]</td>\n",
              "      <td>tt9905462</td>\n",
              "      <td>Pengalila</td>\n",
              "      <td>2019</td>\n",
              "      <td>2019-03-08</td>\n",
              "      <td>111</td>\n",
              "      <td>Malayalam</td>\n",
              "      <td>unusual bond sixty year old dalit worker azhag...</td>\n",
              "    </tr>\n",
              "    <tr>\n",
              "      <th>85849</th>\n",
              "      <td>[Comedy,  Drama]</td>\n",
              "      <td>tt9906644</td>\n",
              "      <td>Manoharam</td>\n",
              "      <td>2019</td>\n",
              "      <td>2019-09-27</td>\n",
              "      <td>122</td>\n",
              "      <td>Malayalam</td>\n",
              "      <td>manoharan poster artist struggling find respec...</td>\n",
              "    </tr>\n",
              "    <tr>\n",
              "      <th>85850</th>\n",
              "      <td>[Comedy]</td>\n",
              "      <td>tt9908390</td>\n",
              "      <td>Le lion</td>\n",
              "      <td>2020</td>\n",
              "      <td>2020-01-29</td>\n",
              "      <td>95</td>\n",
              "      <td>French</td>\n",
              "      <td>psychiatric hospital patient pretend crazy cha...</td>\n",
              "    </tr>\n",
              "    <tr>\n",
              "      <th>85851</th>\n",
              "      <td>[Comedy,  Drama]</td>\n",
              "      <td>tt9911196</td>\n",
              "      <td>De Beentjes van Sint-Hildegard</td>\n",
              "      <td>2020</td>\n",
              "      <td>2020-02-13</td>\n",
              "      <td>103</td>\n",
              "      <td>German, Dutch</td>\n",
              "      <td>veterinary surgeon belief wife pampers much or...</td>\n",
              "    </tr>\n",
              "    <tr>\n",
              "      <th>85854</th>\n",
              "      <td>[Drama]</td>\n",
              "      <td>tt9914942</td>\n",
              "      <td>La vida sense la Sara Amat</td>\n",
              "      <td>2019</td>\n",
              "      <td>2020-02-05</td>\n",
              "      <td>74</td>\n",
              "      <td>Catalan</td>\n",
              "      <td>pep boy love girl grandparent village sara ama...</td>\n",
              "    </tr>\n",
              "  </tbody>\n",
              "</table>\n",
              "<p>82858 rows × 8 columns</p>\n",
              "</div>\n",
              "    <div class=\"colab-df-buttons\">\n",
              "\n",
              "  <div class=\"colab-df-container\">\n",
              "    <button class=\"colab-df-convert\" onclick=\"convertToInteractive('df-017bcbdb-bb85-4680-aaf3-1a2af81ee682')\"\n",
              "            title=\"Convert this dataframe to an interactive table.\"\n",
              "            style=\"display:none;\">\n",
              "\n",
              "  <svg xmlns=\"http://www.w3.org/2000/svg\" height=\"24px\" viewBox=\"0 -960 960 960\">\n",
              "    <path d=\"M120-120v-720h720v720H120Zm60-500h600v-160H180v160Zm220 220h160v-160H400v160Zm0 220h160v-160H400v160ZM180-400h160v-160H180v160Zm440 0h160v-160H620v160ZM180-180h160v-160H180v160Zm440 0h160v-160H620v160Z\"/>\n",
              "  </svg>\n",
              "    </button>\n",
              "\n",
              "  <style>\n",
              "    .colab-df-container {\n",
              "      display:flex;\n",
              "      gap: 12px;\n",
              "    }\n",
              "\n",
              "    .colab-df-convert {\n",
              "      background-color: #E8F0FE;\n",
              "      border: none;\n",
              "      border-radius: 50%;\n",
              "      cursor: pointer;\n",
              "      display: none;\n",
              "      fill: #1967D2;\n",
              "      height: 32px;\n",
              "      padding: 0 0 0 0;\n",
              "      width: 32px;\n",
              "    }\n",
              "\n",
              "    .colab-df-convert:hover {\n",
              "      background-color: #E2EBFA;\n",
              "      box-shadow: 0px 1px 2px rgba(60, 64, 67, 0.3), 0px 1px 3px 1px rgba(60, 64, 67, 0.15);\n",
              "      fill: #174EA6;\n",
              "    }\n",
              "\n",
              "    .colab-df-buttons div {\n",
              "      margin-bottom: 4px;\n",
              "    }\n",
              "\n",
              "    [theme=dark] .colab-df-convert {\n",
              "      background-color: #3B4455;\n",
              "      fill: #D2E3FC;\n",
              "    }\n",
              "\n",
              "    [theme=dark] .colab-df-convert:hover {\n",
              "      background-color: #434B5C;\n",
              "      box-shadow: 0px 1px 3px 1px rgba(0, 0, 0, 0.15);\n",
              "      filter: drop-shadow(0px 1px 2px rgba(0, 0, 0, 0.3));\n",
              "      fill: #FFFFFF;\n",
              "    }\n",
              "  </style>\n",
              "\n",
              "    <script>\n",
              "      const buttonEl =\n",
              "        document.querySelector('#df-017bcbdb-bb85-4680-aaf3-1a2af81ee682 button.colab-df-convert');\n",
              "      buttonEl.style.display =\n",
              "        google.colab.kernel.accessAllowed ? 'block' : 'none';\n",
              "\n",
              "      async function convertToInteractive(key) {\n",
              "        const element = document.querySelector('#df-017bcbdb-bb85-4680-aaf3-1a2af81ee682');\n",
              "        const dataTable =\n",
              "          await google.colab.kernel.invokeFunction('convertToInteractive',\n",
              "                                                    [key], {});\n",
              "        if (!dataTable) return;\n",
              "\n",
              "        const docLinkHtml = 'Like what you see? Visit the ' +\n",
              "          '<a target=\"_blank\" href=https://colab.research.google.com/notebooks/data_table.ipynb>data table notebook</a>'\n",
              "          + ' to learn more about interactive tables.';\n",
              "        element.innerHTML = '';\n",
              "        dataTable['output_type'] = 'display_data';\n",
              "        await google.colab.output.renderOutput(dataTable, element);\n",
              "        const docLink = document.createElement('div');\n",
              "        docLink.innerHTML = docLinkHtml;\n",
              "        element.appendChild(docLink);\n",
              "      }\n",
              "    </script>\n",
              "  </div>\n",
              "\n",
              "\n",
              "<div id=\"df-079c468a-94f5-413f-b2bc-40e2b9c6c1c7\">\n",
              "  <button class=\"colab-df-quickchart\" onclick=\"quickchart('df-079c468a-94f5-413f-b2bc-40e2b9c6c1c7')\"\n",
              "            title=\"Suggest charts\"\n",
              "            style=\"display:none;\">\n",
              "\n",
              "<svg xmlns=\"http://www.w3.org/2000/svg\" height=\"24px\"viewBox=\"0 0 24 24\"\n",
              "     width=\"24px\">\n",
              "    <g>\n",
              "        <path d=\"M19 3H5c-1.1 0-2 .9-2 2v14c0 1.1.9 2 2 2h14c1.1 0 2-.9 2-2V5c0-1.1-.9-2-2-2zM9 17H7v-7h2v7zm4 0h-2V7h2v10zm4 0h-2v-4h2v4z\"/>\n",
              "    </g>\n",
              "</svg>\n",
              "  </button>\n",
              "\n",
              "<style>\n",
              "  .colab-df-quickchart {\n",
              "      --bg-color: #E8F0FE;\n",
              "      --fill-color: #1967D2;\n",
              "      --hover-bg-color: #E2EBFA;\n",
              "      --hover-fill-color: #174EA6;\n",
              "      --disabled-fill-color: #AAA;\n",
              "      --disabled-bg-color: #DDD;\n",
              "  }\n",
              "\n",
              "  [theme=dark] .colab-df-quickchart {\n",
              "      --bg-color: #3B4455;\n",
              "      --fill-color: #D2E3FC;\n",
              "      --hover-bg-color: #434B5C;\n",
              "      --hover-fill-color: #FFFFFF;\n",
              "      --disabled-bg-color: #3B4455;\n",
              "      --disabled-fill-color: #666;\n",
              "  }\n",
              "\n",
              "  .colab-df-quickchart {\n",
              "    background-color: var(--bg-color);\n",
              "    border: none;\n",
              "    border-radius: 50%;\n",
              "    cursor: pointer;\n",
              "    display: none;\n",
              "    fill: var(--fill-color);\n",
              "    height: 32px;\n",
              "    padding: 0;\n",
              "    width: 32px;\n",
              "  }\n",
              "\n",
              "  .colab-df-quickchart:hover {\n",
              "    background-color: var(--hover-bg-color);\n",
              "    box-shadow: 0 1px 2px rgba(60, 64, 67, 0.3), 0 1px 3px 1px rgba(60, 64, 67, 0.15);\n",
              "    fill: var(--button-hover-fill-color);\n",
              "  }\n",
              "\n",
              "  .colab-df-quickchart-complete:disabled,\n",
              "  .colab-df-quickchart-complete:disabled:hover {\n",
              "    background-color: var(--disabled-bg-color);\n",
              "    fill: var(--disabled-fill-color);\n",
              "    box-shadow: none;\n",
              "  }\n",
              "\n",
              "  .colab-df-spinner {\n",
              "    border: 2px solid var(--fill-color);\n",
              "    border-color: transparent;\n",
              "    border-bottom-color: var(--fill-color);\n",
              "    animation:\n",
              "      spin 1s steps(1) infinite;\n",
              "  }\n",
              "\n",
              "  @keyframes spin {\n",
              "    0% {\n",
              "      border-color: transparent;\n",
              "      border-bottom-color: var(--fill-color);\n",
              "      border-left-color: var(--fill-color);\n",
              "    }\n",
              "    20% {\n",
              "      border-color: transparent;\n",
              "      border-left-color: var(--fill-color);\n",
              "      border-top-color: var(--fill-color);\n",
              "    }\n",
              "    30% {\n",
              "      border-color: transparent;\n",
              "      border-left-color: var(--fill-color);\n",
              "      border-top-color: var(--fill-color);\n",
              "      border-right-color: var(--fill-color);\n",
              "    }\n",
              "    40% {\n",
              "      border-color: transparent;\n",
              "      border-right-color: var(--fill-color);\n",
              "      border-top-color: var(--fill-color);\n",
              "    }\n",
              "    60% {\n",
              "      border-color: transparent;\n",
              "      border-right-color: var(--fill-color);\n",
              "    }\n",
              "    80% {\n",
              "      border-color: transparent;\n",
              "      border-right-color: var(--fill-color);\n",
              "      border-bottom-color: var(--fill-color);\n",
              "    }\n",
              "    90% {\n",
              "      border-color: transparent;\n",
              "      border-bottom-color: var(--fill-color);\n",
              "    }\n",
              "  }\n",
              "</style>\n",
              "\n",
              "  <script>\n",
              "    async function quickchart(key) {\n",
              "      const quickchartButtonEl =\n",
              "        document.querySelector('#' + key + ' button');\n",
              "      quickchartButtonEl.disabled = true;  // To prevent multiple clicks.\n",
              "      quickchartButtonEl.classList.add('colab-df-spinner');\n",
              "      try {\n",
              "        const charts = await google.colab.kernel.invokeFunction(\n",
              "            'suggestCharts', [key], {});\n",
              "      } catch (error) {\n",
              "        console.error('Error during call to suggestCharts:', error);\n",
              "      }\n",
              "      quickchartButtonEl.classList.remove('colab-df-spinner');\n",
              "      quickchartButtonEl.classList.add('colab-df-quickchart-complete');\n",
              "    }\n",
              "    (() => {\n",
              "      let quickchartButtonEl =\n",
              "        document.querySelector('#df-079c468a-94f5-413f-b2bc-40e2b9c6c1c7 button');\n",
              "      quickchartButtonEl.style.display =\n",
              "        google.colab.kernel.accessAllowed ? 'block' : 'none';\n",
              "    })();\n",
              "  </script>\n",
              "</div>\n",
              "\n",
              "  <div id=\"id_e1ab61d0-572c-43b4-ba15-39902890ba48\">\n",
              "    <style>\n",
              "      .colab-df-generate {\n",
              "        background-color: #E8F0FE;\n",
              "        border: none;\n",
              "        border-radius: 50%;\n",
              "        cursor: pointer;\n",
              "        display: none;\n",
              "        fill: #1967D2;\n",
              "        height: 32px;\n",
              "        padding: 0 0 0 0;\n",
              "        width: 32px;\n",
              "      }\n",
              "\n",
              "      .colab-df-generate:hover {\n",
              "        background-color: #E2EBFA;\n",
              "        box-shadow: 0px 1px 2px rgba(60, 64, 67, 0.3), 0px 1px 3px 1px rgba(60, 64, 67, 0.15);\n",
              "        fill: #174EA6;\n",
              "      }\n",
              "\n",
              "      [theme=dark] .colab-df-generate {\n",
              "        background-color: #3B4455;\n",
              "        fill: #D2E3FC;\n",
              "      }\n",
              "\n",
              "      [theme=dark] .colab-df-generate:hover {\n",
              "        background-color: #434B5C;\n",
              "        box-shadow: 0px 1px 3px 1px rgba(0, 0, 0, 0.15);\n",
              "        filter: drop-shadow(0px 1px 2px rgba(0, 0, 0, 0.3));\n",
              "        fill: #FFFFFF;\n",
              "      }\n",
              "    </style>\n",
              "    <button class=\"colab-df-generate\" onclick=\"generateWithVariable('data')\"\n",
              "            title=\"Generate code using this dataframe.\"\n",
              "            style=\"display:none;\">\n",
              "\n",
              "  <svg xmlns=\"http://www.w3.org/2000/svg\" height=\"24px\"viewBox=\"0 0 24 24\"\n",
              "       width=\"24px\">\n",
              "    <path d=\"M7,19H8.4L18.45,9,17,7.55,7,17.6ZM5,21V16.75L18.45,3.32a2,2,0,0,1,2.83,0l1.4,1.43a1.91,1.91,0,0,1,.58,1.4,1.91,1.91,0,0,1-.58,1.4L9.25,21ZM18.45,9,17,7.55Zm-12,3A5.31,5.31,0,0,0,4.9,8.1,5.31,5.31,0,0,0,1,6.5,5.31,5.31,0,0,0,4.9,4.9,5.31,5.31,0,0,0,6.5,1,5.31,5.31,0,0,0,8.1,4.9,5.31,5.31,0,0,0,12,6.5,5.46,5.46,0,0,0,6.5,12Z\"/>\n",
              "  </svg>\n",
              "    </button>\n",
              "    <script>\n",
              "      (() => {\n",
              "      const buttonEl =\n",
              "        document.querySelector('#id_e1ab61d0-572c-43b4-ba15-39902890ba48 button.colab-df-generate');\n",
              "      buttonEl.style.display =\n",
              "        google.colab.kernel.accessAllowed ? 'block' : 'none';\n",
              "\n",
              "      buttonEl.onclick = () => {\n",
              "        google.colab.notebook.generateWithVariable('data');\n",
              "      }\n",
              "      })();\n",
              "    </script>\n",
              "  </div>\n",
              "\n",
              "    </div>\n",
              "  </div>\n"
            ],
            "application/vnd.google.colaboratory.intrinsic+json": {
              "type": "dataframe",
              "variable_name": "data",
              "summary": "{\n  \"name\": \"data\",\n  \"rows\": 82858,\n  \"fields\": [\n    {\n      \"column\": \"genres\",\n      \"properties\": {\n        \"dtype\": \"object\",\n        \"semantic_type\": \"\",\n        \"description\": \"\"\n      }\n    },\n    {\n      \"column\": \"imdb_id\",\n      \"properties\": {\n        \"dtype\": \"string\",\n        \"num_unique_values\": 82858,\n        \"samples\": [\n          \"tt0087918\",\n          \"tt0046366\",\n          \"tt3296908\"\n        ],\n        \"semantic_type\": \"\",\n        \"description\": \"\"\n      }\n    },\n    {\n      \"column\": \"title\",\n      \"properties\": {\n        \"dtype\": \"string\",\n        \"num_unique_values\": 79252,\n        \"samples\": [\n          \"U-neun nam-ja\",\n          \"Poligamy\",\n          \"The Second Chance\"\n        ],\n        \"semantic_type\": \"\",\n        \"description\": \"\"\n      }\n    },\n    {\n      \"column\": \"year\",\n      \"properties\": {\n        \"dtype\": \"category\",\n        \"num_unique_values\": 111,\n        \"samples\": [\n          \"1980\",\n          \"1921\",\n          \"1914\"\n        ],\n        \"semantic_type\": \"\",\n        \"description\": \"\"\n      }\n    },\n    {\n      \"column\": \"date\",\n      \"properties\": {\n        \"dtype\": \"category\",\n        \"num_unique_values\": 21667,\n        \"samples\": [\n          \"1948-05-08\",\n          \"1993-10-13\",\n          \"1996-07-12\"\n        ],\n        \"semantic_type\": \"\",\n        \"description\": \"\"\n      }\n    },\n    {\n      \"column\": \"duration\",\n      \"properties\": {\n        \"dtype\": \"number\",\n        \"std\": 22,\n        \"min\": 41,\n        \"max\": 808,\n        \"num_unique_values\": 262,\n        \"samples\": [\n          540,\n          187,\n          179\n        ],\n        \"semantic_type\": \"\",\n        \"description\": \"\"\n      }\n    },\n    {\n      \"column\": \"language\",\n      \"properties\": {\n        \"dtype\": \"category\",\n        \"num_unique_values\": 4340,\n        \"samples\": [\n          \"English, Cheyenne, French\",\n          \"English, French, Scottish Gaelic\",\n          \"Mandarin, Thai\"\n        ],\n        \"semantic_type\": \"\",\n        \"description\": \"\"\n      }\n    },\n    {\n      \"column\": \"plot\",\n      \"properties\": {\n        \"dtype\": \"string\",\n        \"num_unique_values\": 82686,\n        \"samples\": [\n          \"young man family torn apart tragedy reach begin rebuilding trust seek healing thing speaks pain healing power music\",\n          \"1940s social class conflict depicted spoiled socialite traveling freighter call ship head stoker hairy ape provoking stalking rich woman ashore new york\",\n          \"aban tough woman contractor orange field northern iran beat male competition big job operation seems get rocky start aban wo let go without fight\"\n        ],\n        \"semantic_type\": \"\",\n        \"description\": \"\"\n      }\n    }\n  ]\n}"
            }
          },
          "metadata": {},
          "execution_count": 13
        }
      ]
    },
    {
      "cell_type": "code",
      "source": [
        "# calculate total number of unique classes in data['genres']\n",
        "total_classes = len(mlb.classes_)\n",
        "total_classes\n"
      ],
      "metadata": {
        "id": "q-6HzJzniezy",
        "colab": {
          "base_uri": "https://localhost:8080/"
        },
        "outputId": "717ce68b-7ed7-400b-b4d0-b9a7158bece6"
      },
      "execution_count": 14,
      "outputs": [
        {
          "output_type": "execute_result",
          "data": {
            "text/plain": [
              "46"
            ]
          },
          "metadata": {},
          "execution_count": 14
        }
      ]
    },
    {
      "cell_type": "code",
      "source": [
        "# calculate total number of unique classes in data['genres']\n",
        "total_classes = len(mlb.classes_)\n",
        "total_classes\n",
        "# 44 unique classes\n",
        "y_train.shape[1]"
      ],
      "metadata": {
        "colab": {
          "base_uri": "https://localhost:8080/"
        },
        "id": "_lIVz3SgjUDF",
        "outputId": "141a7ad2-b86a-44d4-cca7-a0ca2afeeaa0"
      },
      "execution_count": 15,
      "outputs": [
        {
          "output_type": "execute_result",
          "data": {
            "text/plain": [
              "46"
            ]
          },
          "metadata": {},
          "execution_count": 15
        }
      ]
    },
    {
      "cell_type": "code",
      "source": [
        "import keras\n",
        "# import layers\n",
        "from keras.models import Model,Sequential\n",
        "from keras.layers import Dense,Input\n",
        "import tensorflow as tf\n",
        "import numpy as np"
      ],
      "metadata": {
        "id": "aaooKCjijWyL"
      },
      "execution_count": 16,
      "outputs": []
    },
    {
      "cell_type": "code",
      "source": [
        "def return_sparse(csr_matrix):\n",
        "  coo = csr_matrix.tocoo()\n",
        "  indices = np.mat([coo.row,coo.col]).transpose()\n",
        "  reorder_sparse = tf.sparse.reorder(tf.SparseTensor(indices,coo.data,coo.shape))\n",
        "  return reorder_sparse\n",
        "\n",
        "reorder_sparse = return_sparse(X_train_tfidf)\n"
      ],
      "metadata": {
        "id": "8V7q9bexe3ik"
      },
      "execution_count": 17,
      "outputs": []
    },
    {
      "cell_type": "code",
      "source": [
        "from sklearn.preprocessing import MultiLabelBinarizer\n",
        "import numpy as np\n",
        "\n",
        "# Assuming y_train is your multi-label target variable\n",
        "mlb = MultiLabelBinarizer()\n",
        "y_train_bin = mlb.fit_transform(data['genres'])\n",
        "\n",
        "class_weights = {}\n",
        "\n",
        "for i in range(y_train_bin.shape[1]):\n",
        "    class_weights[mlb.classes_[i]] = 1 / (np.sum(y_train_bin[:, i]) / len(y_train))\n",
        "\n",
        "# Create a dictionary mapping class names to indices\n",
        "class_indices = {class_name: index for index, class_name in enumerate(mlb.classes_)}\n",
        "class_indices\n",
        "\n",
        "new_weights = dict()\n",
        "for (k,v) in class_weights.items():\n",
        "    indices = class_indices.get(k)\n",
        "    new_weights[indices] = v\n",
        "\n",
        "new_weights"
      ],
      "metadata": {
        "colab": {
          "base_uri": "https://localhost:8080/"
        },
        "id": "WOiiDtGavfwA",
        "outputId": "3ed677d3-e117-40a3-c631-88de78db0ecd"
      },
      "execution_count": 18,
      "outputs": [
        {
          "output_type": "execute_result",
          "data": {
            "text/plain": [
              "{0: 89.45479082321188,\n",
              " 1: 16.858087487283825,\n",
              " 2: 2071.4375,\n",
              " 3: 215.9153094462541,\n",
              " 4: 13.450892857142858,\n",
              " 5: 12.288839451242122,\n",
              " 6: 3.123751178133836,\n",
              " 7: 20.56655290102389,\n",
              " 8: 20.65627921470863,\n",
              " 9: 104.7172195892575,\n",
              " 10: 30.931404573028466,\n",
              " 11: 15.1753663003663,\n",
              " 12: 41.97973400886637,\n",
              " 13: 39.62104004781829,\n",
              " 14: 14.50142200831328,\n",
              " 15: 66286.0,\n",
              " 16: 22095.333333333332,\n",
              " 17: 5.104813246053138,\n",
              " 18: 21.10347023241006,\n",
              " 19: 65.05004906771345,\n",
              " 20: 6.717948717948718,\n",
              " 21: 31.97588036661843,\n",
              " 22: 69.336820083682,\n",
              " 23: 5.536752422318743,\n",
              " 24: 33143.0,\n",
              " 25: 19.025832376578645,\n",
              " 26: 32.58898721730581,\n",
              " 27: 32.798614547253834,\n",
              " 28: 2.869648036711546,\n",
              " 29: 12.153648698203154,\n",
              " 30: 66286.0,\n",
              " 31: 2.710418711154727,\n",
              " 32: 111.03182579564489,\n",
              " 33: 136.6721649484536,\n",
              " 34: 2285.7241379310344,\n",
              " 35: 946.9428571428571,\n",
              " 36: 13.24660271782574,\n",
              " 37: 920.6388888888889,\n",
              " 38: 212.4551282051282,\n",
              " 39: 113.30940170940171,\n",
              " 40: 90.9272976680384,\n",
              " 41: 162.0684596577017,\n",
              " 42: 4142.875,\n",
              " 43: 50.292867981790586,\n",
              " 44: 676.3877551020407,\n",
              " 45: 108.48772504091653}"
            ]
          },
          "metadata": {},
          "execution_count": 18
        }
      ]
    },
    {
      "cell_type": "code",
      "source": [
        "print(mlb.classes_.shape)\n",
        "from pprint import pprint\n",
        "pprint(class_weights.__len__())"
      ],
      "metadata": {
        "colab": {
          "base_uri": "https://localhost:8080/"
        },
        "id": "BV_a-i1TxR8t",
        "outputId": "f3f365ec-ed6a-48c9-c6ec-87fe2c52d242"
      },
      "execution_count": 19,
      "outputs": [
        {
          "output_type": "stream",
          "name": "stdout",
          "text": [
            "(46,)\n",
            "46\n"
          ]
        }
      ]
    },
    {
      "cell_type": "code",
      "source": [
        "model = Sequential([\n",
        "    Dense(100,activation='relu',input_shape=(X_train_tfidf.shape[1],)),\n",
        "    Dense(100,activation='relu'),\n",
        "    Dense(total_classes,activation='sigmoid')\n",
        "])\n",
        "model.compile(optimizer='adam',loss='binary_crossentropy',metrics=['accuracy'])"
      ],
      "metadata": {
        "id": "XvBbwUWWkZwC"
      },
      "execution_count": 20,
      "outputs": []
    },
    {
      "cell_type": "code",
      "source": [
        "X_train_tfidf_ordered = tf.sparse.reorder(reorder_sparse)\n",
        "\n",
        "model.fit(X_train_tfidf_ordered, y_train, epochs=25, batch_size=128,class_weight=new_weights)"
      ],
      "metadata": {
        "colab": {
          "base_uri": "https://localhost:8080/"
        },
        "id": "YnChqN0mjZ5_",
        "outputId": "e36f3143-cd8e-4c49-a40b-e20e786d9d4d"
      },
      "execution_count": null,
      "outputs": [
        {
          "output_type": "stream",
          "name": "stdout",
          "text": [
            "Epoch 1/25\n",
            " 32/518 [>.............................] - ETA: 16:36 - loss: 6.7773 - accuracy: 0.0122"
          ]
        }
      ]
    },
    {
      "cell_type": "code",
      "source": [
        "model.evaluate(return_sparse(X_test_tfidf),y_test)"
      ],
      "metadata": {
        "id": "qG3GToUjjanP"
      },
      "execution_count": null,
      "outputs": []
    },
    {
      "cell_type": "code",
      "source": [
        "model.summary()"
      ],
      "metadata": {
        "id": "J-cqSt3vuMMY"
      },
      "execution_count": null,
      "outputs": []
    }
  ],
  "metadata": {
    "colab": {
      "provenance": [],
      "gpuType": "V28",
      "include_colab_link": true
    },
    "kernelspec": {
      "display_name": "Python 3",
      "name": "python3"
    },
    "language_info": {
      "codemirror_mode": {
        "name": "ipython",
        "version": 3
      },
      "file_extension": ".py",
      "mimetype": "text/x-python",
      "name": "python",
      "nbconvert_exporter": "python",
      "pygments_lexer": "ipython3",
      "version": "3.11.8"
    },
    "accelerator": "TPU"
  },
  "nbformat": 4,
  "nbformat_minor": 0
}